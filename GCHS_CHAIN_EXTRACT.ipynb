{
  "nbformat": 4,
  "nbformat_minor": 0,
  "metadata": {
    "colab": {
      "provenance": [],
      "include_colab_link": true
    },
    "kernelspec": {
      "name": "python3",
      "display_name": "Python 3"
    },
    "language_info": {
      "name": "python"
    }
  },
  "cells": [
    {
      "cell_type": "markdown",
      "metadata": {
        "id": "view-in-github",
        "colab_type": "text"
      },
      "source": [
        "<a href=\"https://colab.research.google.com/github/Siddhartha96123/GCHS/blob/main/GCHS_CHAIN_EXTRACT.ipynb\" target=\"_parent\"><img src=\"https://colab.research.google.com/assets/colab-badge.svg\" alt=\"Open In Colab\"/></a>"
      ]
    },
    {
      "cell_type": "markdown",
      "source": [
        "Hello Fellow Curious Human.\n",
        "\n",
        "This here is a simple tool to split both of your reference and target PDBs into its contituent PDB chains and have access to that combined ZIP files. Please follow the steps as you move through.\n",
        "\n",
        "STEP 1. Sort out all computational pre-requisites."
      ],
      "metadata": {
        "id": "Ejm-biJr6cy-"
      }
    },
    {
      "cell_type": "code",
      "execution_count": null,
      "metadata": {
        "id": "gq32z2mh58Mk"
      },
      "outputs": [],
      "source": [
        "!pip install biopython"
      ]
    },
    {
      "cell_type": "markdown",
      "source": [
        "Now the core function of splitting the PDB itself :\n",
        "\n",
        "Please initiate the code to run and when promopted, please go ahead with uploading the reference and target PDBs that needs to be split into contitutent chains."
      ],
      "metadata": {
        "id": "PcRX1Taw7AhI"
      }
    },
    {
      "cell_type": "code",
      "source": [
        "import os\n",
        "from google.colab import files\n",
        "import shutil\n",
        "import time  # For adding delay between downloads\n",
        "\n",
        "def extract_protein_chains(pdb_file, output_dir):\n",
        "    \"\"\"\n",
        "    Extract protein chains from a PDB file and save them as separate PDB files in the specified output directory.\n",
        "    :param pdb_file: Path to the input PDB file\n",
        "    :param output_dir: Directory where the chain PDB files will be saved\n",
        "    :return: Number of chains extracted from the PDB file\n",
        "    \"\"\"\n",
        "    chains = {}\n",
        "\n",
        "    # Open the PDB file for reading\n",
        "    with open(pdb_file, 'r') as f:\n",
        "        for line in f:\n",
        "            # Only process lines that start with 'ATOM'\n",
        "            if line.startswith(\"ATOM\"):\n",
        "                chain_id = line[21]  # Chain identifier is in column 22 (index 21 in 0-indexed)\n",
        "\n",
        "                # Append the line to the corresponding chain\n",
        "                if chain_id not in chains:\n",
        "                    chains[chain_id] = []\n",
        "                chains[chain_id].append(line)\n",
        "\n",
        "    # Create a directory to store the chain PDB files\n",
        "    os.makedirs(output_dir, exist_ok=True)\n",
        "\n",
        "    # Write each chain's data to a separate PDB file\n",
        "    for chain_id, chain_data in chains.items():\n",
        "        pdb_filename = os.path.join(output_dir, f\"chain_{chain_id}.pdb\")\n",
        "        with open(pdb_filename, 'w') as pdb_file:\n",
        "            pdb_file.writelines(chain_data)\n",
        "            print(f\"Chain {chain_id} saved as {pdb_filename}\")\n",
        "\n",
        "    # Return the number of chains extracted\n",
        "    return len(chains)\n",
        "\n",
        "def upload_pdb_files():\n",
        "    \"\"\"\n",
        "    Allows the user to upload the reference and target PDB files.\n",
        "    \"\"\"\n",
        "    print(\"Please upload the reference PDB file:\")\n",
        "    uploaded_files = files.upload()\n",
        "    ref_pdb = list(uploaded_files.keys())[0]\n",
        "    print(f\"Reference PDB file uploaded: {ref_pdb}\")\n",
        "\n",
        "    print(\"\\nPlease upload the target PDB file:\")\n",
        "    uploaded_files = files.upload()\n",
        "    target_pdb = list(uploaded_files.keys())[0]\n",
        "    print(f\"Target PDB file uploaded: {target_pdb}\")\n",
        "\n",
        "    return ref_pdb, target_pdb\n",
        "\n",
        "def process_pdb_files():\n",
        "    # Upload PDB files\n",
        "    ref_pdb, target_pdb = upload_pdb_files()\n",
        "\n",
        "    # Extract chains for the reference PDB file\n",
        "    ref_output_dir = \"ref_chains_pdb_files\"\n",
        "    ref_chain_count = extract_protein_chains(ref_pdb, ref_output_dir)\n",
        "    print(f\"\\n{ref_chain_count} chains extracted from the reference PDB file.\\n\")\n",
        "\n",
        "    # Extract chains for the target PDB file\n",
        "    target_output_dir = \"target_chains_pdb_files\"\n",
        "    target_chain_count = extract_protein_chains(target_pdb, target_output_dir)\n",
        "    print(f\"{target_chain_count} chains extracted from the target PDB file.\\n\")\n",
        "\n",
        "    # Zip the output directories for downloading\n",
        "    shutil.make_archive('ref_chains_pdb_files', 'zip', 'ref_chains_pdb_files')\n",
        "    shutil.make_archive('target_chains_pdb_files', 'zip', 'target_chains_pdb_files')\n",
        "\n",
        "    # Provide download links for the user\n",
        "    print(\"Preparing to download ZIP files...\\n\")\n",
        "\n",
        "    # Delay to ensure the first download completes\n",
        "    files.download('ref_chains_pdb_files.zip')\n",
        "\n",
        "    # Adding a short delay before the second download to ensure both downloads work\n",
        "    time.sleep(2)  # You can adjust this time if necessary\n",
        "\n",
        "    files.download('target_chains_pdb_files.zip')\n",
        "\n",
        "# Run the processing\n",
        "process_pdb_files()\n",
        "\n",
        "\n"
      ],
      "metadata": {
        "id": "DBMCPXir7Vio"
      },
      "execution_count": null,
      "outputs": []
    }
  ]
}