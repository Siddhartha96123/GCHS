{
  "cells": [
    {
      "cell_type": "markdown",
      "metadata": {
        "id": "view-in-github",
        "colab_type": "text"
      },
      "source": [
        "<a href=\"https://colab.research.google.com/github/Siddhartha96123/GCHS/blob/main/GCHS.ipynb\" target=\"_parent\"><img src=\"https://colab.research.google.com/assets/colab-badge.svg\" alt=\"Open In Colab\"/></a>"
      ]
    },
    {
      "cell_type": "markdown",
      "source": [
        "WELCOME to the **General** Executable Conformational Heterogeneity Scanner.\n",
        "\n",
        "It is capable of performing a '***PDB vs PDB***' conformational heterogeneity scanning of ***same enzyme from the SAME or two different organisms***."
      ],
      "metadata": {
        "id": "dU8qcFWlCxNk"
      }
    },
    {
      "cell_type": "code",
      "source": [
        "# Required libraries installation\n",
        "!pip install biopython"
      ],
      "metadata": {
        "id": "HGD1zOhsCkAu"
      },
      "execution_count": null,
      "outputs": []
    },
    {
      "cell_type": "markdown",
      "source": [
        "Now that the dependencies are done : Lets move onto the actual script.\n",
        "\n",
        "The script will at the tail end of this code - ask for the **Reference PDB** first - which shall be needed to be uploaded from your local system, followed by the **Target PDB**.\n",
        "\n",
        "Green tick on the left side of the Play button implies this part has been executed completely without any errors. Herein, we are :\n",
        "\n",
        "Defining the function for uploading files, Parsing, aligning.\n",
        "\n",
        "Defining the function for aligning the structures.\n",
        "\n",
        "Defining the function for calculating ***RMSD/Res***\n",
        "\n",
        "Defining the function to map the values on a an excel sheet.\n",
        "\n",
        "Defining the function for plotting the values from the excel to a Graph."
      ],
      "metadata": {
        "id": "kwxFQzTLDsLn"
      }
    },
    {
      "cell_type": "code",
      "execution_count": 4,
      "metadata": {
        "id": "xA54ue1QpI1Y"
      },
      "outputs": [],
      "source": [
        "from Bio.PDB import PDBParser, Superimposer, is_aa\n",
        "from Bio import pairwise2\n",
        "from Bio.SeqUtils import seq1\n",
        "import numpy as np\n",
        "import pandas as pd\n",
        "import matplotlib.pyplot as plt\n",
        "from google.colab import files\n",
        "import os\n",
        "\n",
        "# Function to upload files in Colab\n",
        "def upload_files():\n",
        "    uploaded = files.upload()\n",
        "    file_paths = list(uploaded.keys())\n",
        "    return file_paths\n",
        "\n",
        "def extract_sequence_and_residues(structure):\n",
        "    \"\"\"Extracts the amino acid sequence and residues from the PDB structure.\"\"\"\n",
        "    sequence = \"\"\n",
        "    residues = []\n",
        "    for chain in structure[0]:\n",
        "        for residue in chain:\n",
        "            if is_aa(residue, standard=True):  # Check if residue is an amino acid\n",
        "                sequence += seq1(residue.get_resname())  # Get one-letter code for the residue\n",
        "                residues.append(residue)\n",
        "    return sequence, residues\n",
        "\n",
        "def align_sequences(seq1, seq2):\n",
        "    \"\"\"Align two sequences using pairwise global alignment (globalxx).\"\"\"\n",
        "    alignments = pairwise2.align.globalxx(seq1, seq2)\n",
        "    return alignments[0]  # Return the best alignment\n",
        "\n",
        "def map_residues_by_alignment(alignment, ref_residues, target_residues):\n",
        "    \"\"\"Map residues based on sequence alignment.\"\"\"\n",
        "    ref_aligned_residues = []\n",
        "    target_aligned_residues = []\n",
        "\n",
        "    ref_index = 0\n",
        "    target_index = 0\n",
        "\n",
        "    for ref_aa, tgt_aa in zip(alignment[0], alignment[1]):\n",
        "        if ref_aa != '-' and tgt_aa != '-':\n",
        "            # Both residues are aligned, add their corresponding residues to the list\n",
        "            ref_aligned_residues.append(ref_residues[ref_index])\n",
        "            target_aligned_residues.append(target_residues[target_index])\n",
        "\n",
        "        if ref_aa != '-':\n",
        "            ref_index += 1  # Move to the next residue in the reference sequence\n",
        "        if tgt_aa != '-':\n",
        "            target_index += 1  # Move to the next residue in the target sequence\n",
        "\n",
        "    return ref_aligned_residues, target_aligned_residues\n",
        "\n",
        "def align_structures(reference_path, target_path):\n",
        "    parser = PDBParser(QUIET=True)\n",
        "\n",
        "    # Load the reference structure\n",
        "    reference_structure = parser.get_structure(\"reference\", reference_path)\n",
        "\n",
        "    # Load the target structure\n",
        "    target_structure = parser.get_structure(\"target\", target_path)\n",
        "\n",
        "    # Extract sequences and residues from both structures\n",
        "    ref_seq, ref_residues = extract_sequence_and_residues(reference_structure)\n",
        "    tgt_seq, target_residues = extract_sequence_and_residues(target_structure)\n",
        "\n",
        "    # Align sequences globally\n",
        "    alignment = align_sequences(ref_seq, tgt_seq)\n",
        "\n",
        "    # Map residues based on alignment\n",
        "    ref_aligned_residues, target_aligned_residues = map_residues_by_alignment(alignment, ref_residues, target_residues)\n",
        "\n",
        "    # Initialize the superimposer\n",
        "    superimposer = Superimposer()\n",
        "    reference_atoms = [residue['CA'] for residue in ref_aligned_residues if 'CA' in residue]\n",
        "    target_atoms = [residue['CA'] for residue in target_aligned_residues if 'CA' in residue]\n",
        "\n",
        "    # Check if atoms are available for superimposition\n",
        "    if not reference_atoms or not target_atoms:\n",
        "        raise ValueError(\"No atoms available for reference superimposition.\")\n",
        "\n",
        "    # Perform the superimposition\n",
        "    superimposer.set_atoms(reference_atoms, target_atoms)\n",
        "    superimposer.apply(target_structure[0].get_atoms())\n",
        "\n",
        "    return reference_structure, target_structure\n",
        "\n",
        "def calculate_distances(reference_structure, target_structure, ref_aligned_residues, target_aligned_residues):\n",
        "    distances = []\n",
        "\n",
        "    # Iterate over aligned residues and calculate distances between CA atoms\n",
        "    for ref_residue, target_residue in zip(ref_aligned_residues, target_aligned_residues):\n",
        "        if 'CA' in ref_residue and 'CA' in target_residue:\n",
        "            ref_atom = ref_residue['CA']\n",
        "            target_atom = target_residue['CA']\n",
        "            distance = np.linalg.norm(ref_atom.get_coord() - target_atom.get_coord())\n",
        "            distances.append((ref_residue.get_id()[1], target_residue.get_id()[1], distance))  # Use residue ID\n",
        "\n",
        "    return distances\n",
        "\n",
        "def save_distances_to_excel(distances, output_path):\n",
        "    df = pd.DataFrame(distances, columns=[\"Reference Residue\", \"Aligned Residue\", \"Distance\"])\n",
        "    df.to_excel(output_path, index=False)\n",
        "\n",
        "def plot_rmsf(distances, output_plot_path):\n",
        "    reference_residues = [d[0] for d in distances]\n",
        "    rmsf_values = [d[2] for d in distances]\n",
        "\n",
        "    plt.scatter(reference_residues, rmsf_values)\n",
        "    plt.xlabel(\"Reference Residue\")\n",
        "    plt.ylabel(\"RMSF (Å)\")\n",
        "    plt.title(\"Root Mean Square Fluctuation\")\n",
        "    plt.savefig(output_plot_path)\n",
        "    plt.close()"
      ]
    },
    {
      "cell_type": "markdown",
      "source": [
        "The green tick on the above block here signals that the functions to perform every associated funciton within this tool have been ***Defined & Initialised***\n",
        "\n",
        "We can finally now, move to uploading the ***SINGLE CHAIN PDBs*** for all further analyses."
      ],
      "metadata": {
        "id": "ghbtig3tCJrP"
      }
    },
    {
      "cell_type": "code",
      "source": [
        "# Upload the PDB files individually\n",
        "print(\"Please upload the reference PDB file.\")\n",
        "reference_pdb = upload_files()[0]\n",
        "\n",
        "print(\"Please upload the target PDB file.\")\n",
        "target_pdb = upload_files()[0]\n",
        "\n",
        "try:\n",
        "    # Align structures\n",
        "    reference_structure, aligned_structure = align_structures(reference_pdb, target_pdb)\n",
        "\n",
        "    # Extract sequences and residues again for distance calculation\n",
        "    ref_seq, ref_residues = extract_sequence_and_residues(reference_structure)\n",
        "    tgt_seq, target_residues = extract_sequence_and_residues(aligned_structure)\n",
        "\n",
        "    # Align sequences globally\n",
        "    alignment = align_sequences(ref_seq, tgt_seq)\n",
        "\n",
        "    # Map residues based on alignment\n",
        "    ref_aligned_residues, target_aligned_residues = map_residues_by_alignment(alignment, ref_residues, target_residues)\n",
        "\n",
        "    # Calculate distances between atoms\n",
        "    distances = calculate_distances(reference_structure, aligned_structure, ref_aligned_residues, target_aligned_residues)\n",
        "\n",
        "    # Save distances to Excel\n",
        "    output_excel = \"GCHS_PDB_RMSF.xlsx\"\n",
        "    save_distances_to_excel(distances, output_excel)\n",
        "\n",
        "    # Plot RMSF\n",
        "    output_plot = \"GCHS_PDB_RMSF_plot.png\"\n",
        "    plot_rmsf(distances, output_plot)\n",
        "\n",
        "    # Download the files\n",
        "    print(\"Script execution completed. \\n The temp Excel file and the Plot shall be auto-downloaded to your local system now. \\n Please allow permissions.\")\n",
        "    files.download(output_excel)\n",
        "    files.download(output_plot)\n",
        "\n",
        "except Exception as e:\n",
        "    print(\"An error occurred during script execution:\", str(e))"
      ],
      "metadata": {
        "id": "0PtYpP2KCI6f"
      },
      "execution_count": null,
      "outputs": []
    }
  ],
  "metadata": {
    "colab": {
      "provenance": [],
      "authorship_tag": "ABX9TyP0jXb3BIQBTACV1HDlnhD5",
      "include_colab_link": true
    },
    "kernelspec": {
      "display_name": "Python 3",
      "name": "python3"
    },
    "language_info": {
      "name": "python"
    }
  },
  "nbformat": 4,
  "nbformat_minor": 0
}